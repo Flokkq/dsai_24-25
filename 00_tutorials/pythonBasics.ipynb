{
 "cells": [
  {
   "cell_type": "code",
   "execution_count": 1,
   "metadata": {},
   "outputs": [
    {
     "name": "stdout",
     "output_type": "stream",
     "text": [
      "H\n",
      "e\n",
      "l\n",
      "l\n",
      "o\n",
      " \n",
      "W\n",
      "o\n",
      "r\n",
      "l\n",
      "d\n"
     ]
    }
   ],
   "source": [
    "str = \"Hello World\"\n",
    "for i in str: \n",
    "    print(i)"
   ]
  },
  {
   "cell_type": "code",
   "execution_count": 4,
   "metadata": {},
   "outputs": [
    {
     "name": "stdout",
     "output_type": "stream",
     "text": [
      "ello Wo\n"
     ]
    }
   ],
   "source": [
    "print(str[1:-3])"
   ]
  },
  {
   "cell_type": "code",
   "execution_count": null,
   "metadata": {},
   "outputs": [],
   "source": [
    "def nextSquare():\n",
    "    i = 1\n",
    "    while True:\n",
    "        yield i+1\n",
    "        i += 1\n",
    "\n",
    "\n",
    "for num in nextSquare():\n",
    "    if num > 100:\n",
    "        break\n",
    "    print(num)"
   ]
  },
  {
   "cell_type": "code",
   "execution_count": 3,
   "metadata": {},
   "outputs": [
    {
     "name": "stdout",
     "output_type": "stream",
     "text": [
      "[3, 4, 5, 6, 7, 8, 9, 10, 11, 12]\n"
     ]
    }
   ],
   "source": [
    "liste = [1,2,3,4,5,6,7,8,9,10]\n",
    "print(list(map(lambda x: x+2, liste)))"
   ]
  },
  {
   "cell_type": "markdown",
   "metadata": {},
   "source": [
    "# Dateien einlesen"
   ]
  },
  {
   "cell_type": "code",
   "execution_count": 8,
   "metadata": {},
   "outputs": [
    {
     "name": "stdout",
     "output_type": "stream",
     "text": [
      "Hello\n",
      "World\n",
      "Das\n",
      "ist\n",
      "ein\n",
      "Demo-Textdatei\n",
      "für\n",
      "die\n",
      "4AHIF\n",
      "3.\n",
      "Zeile\n"
     ]
    }
   ],
   "source": [
    "f = open(\"texte.txt\", \"r\")\n",
    "for line in f.readlines():\n",
    "    for word in line.split():\n",
    "        print(word)"
   ]
  },
  {
   "cell_type": "code",
   "execution_count": 9,
   "metadata": {},
   "outputs": [
    {
     "name": "stdout",
     "output_type": "stream",
     "text": [
      "./\n",
      "nb1.ipynb\n",
      "pythonBasics.ipynb\n",
      "test1.ipynb\n",
      "test1.py\n",
      "texte.txt\n"
     ]
    }
   ],
   "source": [
    "import os\n",
    "\n",
    "verzeichnispfad = \"./\"\n",
    "for wurzel, verzeichnisse, dateien in os.walk(verzeichnispfad):\n",
    "    print(wurzel)\n",
    "    for datei in dateien:\n",
    "        print(datei)"
   ]
  },
  {
   "cell_type": "code",
   "execution_count": 21,
   "metadata": {},
   "outputs": [
    {
     "name": "stdout",
     "output_type": "stream",
     "text": [
      "14133\n"
     ]
    }
   ],
   "source": [
    "import os\n",
    "\n",
    "path = \"C:/Users/windb/Downloads\"\n",
    "count = 0\n",
    "for wurzel, verzeichnisse, dateien in os.walk(path):\n",
    "    for datei in dateien:\n",
    "        for word in datei.split():\n",
    "            count += 1\n",
    "        \n",
    "print(count)"
   ]
  },
  {
   "cell_type": "code",
   "execution_count": 22,
   "metadata": {},
   "outputs": [],
   "source": [
    "import tkinter as tk\n",
    "from tkinter import filedialog\n",
    "\n",
    "def openFileDialog():\n",
    "    root = tk.Tk()\n",
    "    root.withdraw()\n",
    "\n",
    "    file = filedialog.askopenfilename(initialdir = os.getcwd())\n",
    "\n",
    "    return file\n",
    "\n",
    "print (openFileDialog())"
   ]
  },
  {
   "cell_type": "code",
   "execution_count": 1,
   "metadata": {},
   "outputs": [],
   "source": [
    "from PIL import Image"
   ]
  }
 ],
 "metadata": {
  "kernelspec": {
   "display_name": "base",
   "language": "python",
   "name": "python3"
  },
  "language_info": {
   "codemirror_mode": {
    "name": "ipython",
    "version": 3
   },
   "file_extension": ".py",
   "mimetype": "text/x-python",
   "name": "python",
   "nbconvert_exporter": "python",
   "pygments_lexer": "ipython3",
   "version": "3.12.4"
  }
 },
 "nbformat": 4,
 "nbformat_minor": 2
}
