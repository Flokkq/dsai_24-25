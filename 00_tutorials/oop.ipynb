{
 "cells": [
  {
   "cell_type": "code",
   "execution_count": 29,
   "metadata": {},
   "outputs": [
    {
     "name": "stdout",
     "output_type": "stream",
     "text": [
      "Bello Mammal\n"
     ]
    },
    {
     "data": {
      "text/plain": [
       "['__class__',\n",
       " '__del__',\n",
       " '__delattr__',\n",
       " '__dict__',\n",
       " '__dir__',\n",
       " '__doc__',\n",
       " '__eq__',\n",
       " '__format__',\n",
       " '__ge__',\n",
       " '__getattribute__',\n",
       " '__getstate__',\n",
       " '__gt__',\n",
       " '__hash__',\n",
       " '__init__',\n",
       " '__init_subclass__',\n",
       " '__le__',\n",
       " '__lt__',\n",
       " '__module__',\n",
       " '__ne__',\n",
       " '__new__',\n",
       " '__reduce__',\n",
       " '__reduce_ex__',\n",
       " '__repr__',\n",
       " '__setattr__',\n",
       " '__sizeof__',\n",
       " '__str__',\n",
       " '__subclasshook__',\n",
       " '__weakref__',\n",
       " 'dogname',\n",
       " 'getName',\n",
       " 'getTyp',\n",
       " 'typ']"
      ]
     },
     "execution_count": 29,
     "metadata": {},
     "output_type": "execute_result"
    }
   ],
   "source": [
    "class Animal:\n",
    "    def __init__(self, typ=\"Mammal\"):\n",
    "        self.typ = typ\n",
    "    def getTyp(self):\n",
    "        return self.typ\n",
    "\n",
    "class Dog (Animal):\n",
    "    dogname = \"noName\"\n",
    "    def __init__(self, dogname):\n",
    "        self.dogname = dogname\n",
    "        Animal.__init__(self)\n",
    "\n",
    "    def getName(self):\n",
    "        return self.dogname\n",
    "\n",
    "    def __str__(self):\n",
    "        return \"Dogname: \" + self.dogname\n",
    "\n",
    "    def __del__(self):\n",
    "        print(\"Dog \"+self.dogname+\" deleted\")\n",
    "\n",
    "bello = Dog(\"Bello\")\n",
    "print(bello.getName(), bello.getTyp())\n",
    "\n",
    "#del bello\n",
    "#bello = 5\n",
    "dir(bello)\n",
    "\n",
    "\n",
    "#print(bello)\n",
    "\n"
   ]
  },
  {
   "cell_type": "code",
   "execution_count": null,
   "metadata": {},
   "outputs": [
    {
     "name": "stdout",
     "output_type": "stream",
     "text": [
      "Father:  Joseph\n",
      "Mother:  Maria\n",
      "\n",
      "\n"
     ]
    }
   ],
   "source": [
    "class Mother:\n",
    "    __mothername = \"\"\n",
    "    def mother(self):\n",
    "        print(self.__mothername)\n",
    "\n",
    "class Father:\n",
    "    __fathername = \"\"\n",
    "    def father(self):\n",
    "        print(self.__fathername)\n",
    "\n",
    "class Child(Mother, Father):\n",
    "    def parents(self):\n",
    "        print(\"Father: \", self.Father__fathername)\n",
    "        print(\"Mother: \", self.Mother__mothername)\n",
    "\n",
    "    @staticmethod\n",
    "    def func(self):\n",
    "        print(\"Child\")\n",
    "\n",
    "\n",
    "c1 = Child()\n",
    "c1.Father__fathername = \"Joseph\"\n",
    "c1.Mother__mothername = \"Maria\"\n",
    "c1.parents()\n",
    "c1.mother()\n",
    "c1.father()"
   ]
  },
  {
   "cell_type": "code",
   "execution_count": 22,
   "metadata": {},
   "outputs": [
    {
     "name": "stdout",
     "output_type": "stream",
     "text": [
      "Vector(1, 2, 3, 4)\n",
      "Vector(4, 5, 6, 7)\n",
      "Vector(5, 7, 9, 11)\n"
     ]
    }
   ],
   "source": [
    "class Vector:\n",
    "    def __init__(self, *num):\n",
    "        self.num = num\n",
    "\n",
    "    def __repr__(self):\n",
    "        return \"Vector{}\".format(self.num)\n",
    "    \n",
    "    def __add__(self, other):\n",
    "        return Vector(*(sum(pair) for pair in zip(self.num, other.num)))\n",
    "    \n",
    "v1 = Vector(1, 2, 3, 4)\n",
    "v2 = Vector(4, 5, 6,7)\n",
    "\n",
    "v3 = v1 + v2\n",
    "\n",
    "print(v1)\n",
    "print(v2)\n",
    "print(v3)"
   ]
  },
  {
   "cell_type": "code",
   "execution_count": 26,
   "metadata": {},
   "outputs": [
    {
     "name": "stdout",
     "output_type": "stream",
     "text": [
      "5\n",
      "7\n",
      "9\n",
      "11\n"
     ]
    }
   ],
   "source": [
    "for l in zip((1, 2, 3, 4), (4, 5, 6, 7)):\n",
    "    print(sum(l))"
   ]
  },
  {
   "cell_type": "code",
   "execution_count": null,
   "metadata": {},
   "outputs": [],
   "source": [
    "import numpy as np\n",
    "\n",
    "class Vector:\n",
    "    def __init__(self, components):\n",
    "        self.components = components\n",
    "    \n",
    "    def dot_product(self, other):\n",
    "        # Überprüft, ob das andere Objekt ebenfalls ein Vector ist\n",
    "    \n",
    "        result = sum(a * b for a, b in zip(self.components, other.components))\n",
    "        return result\n",
    "     \n",
    "    def __str__(self):\n",
    "        return f\"Vector({self.components})\"\n",
    "\n",
    "# Beispiel für die Verwendung der Klasse\n",
    "v1 = Vector(np.array[1, 2, 3])\n",
    "v2 = Vector([4, 5, 6])\n",
    "\n",
    "print(\"Vektor 1:\", v1)\n",
    "print(\"Vektor 2:\", v2)\n",
    "\n",
    "# Berechnet das Skalarprodukt der beiden Vektoren\n",
    "result = v1.dot_product(v2)\n",
    "print(\"Skalarprodukt von Vektor 1 und Vektor 2:\", result)\n"
   ]
  }
 ],
 "metadata": {
  "kernelspec": {
   "display_name": "base",
   "language": "python",
   "name": "python3"
  },
  "language_info": {
   "codemirror_mode": {
    "name": "ipython",
    "version": 3
   },
   "file_extension": ".py",
   "mimetype": "text/x-python",
   "name": "python",
   "nbconvert_exporter": "python",
   "pygments_lexer": "ipython3",
   "version": "3.11.7"
  }
 },
 "nbformat": 4,
 "nbformat_minor": 2
}
