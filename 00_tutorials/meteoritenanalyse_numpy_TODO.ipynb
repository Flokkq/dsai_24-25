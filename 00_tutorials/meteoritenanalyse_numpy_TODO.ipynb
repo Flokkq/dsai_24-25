{
 "cells": [
  {
   "cell_type": "markdown",
   "id": "38676bdb",
   "metadata": {},
   "source": [
    "# Meteoritenanalyse mit NumPy\n",
    "\n",
    "**Szenario:**\n",
    "Du bist ein Datenwissenschaftler, der Meteoriten in verschiedenen Regionen der Welt untersucht. Dein Ziel ist es, aus den vorliegenden Daten (z. B. Größe, Geschwindigkeit und Einschlagkraft von Meteoriten) wichtige Erkenntnisse zu gewinnen.\n",
    "\n",
    "In dieser Übung analysierst du zufällig generierte Meteoriten-Daten mit NumPy."
   ]
  },
  {
   "cell_type": "markdown",
   "id": "781b08e5",
   "metadata": {},
   "source": [
    "## Aufgabe 1: Meteoriten-Daten generieren\n",
    "Erstelle ein NumPy-Array mit 10 zufälligen Zahlen, das die Durchmesser von Meteoriten (in Metern) darstellt. Die Durchmesser liegen zwischen 1 und 100 Metern."
   ]
  },
  {
   "cell_type": "code",
   "execution_count": null,
   "id": "22ab1033",
   "metadata": {},
   "outputs": [],
   "source": [
    "import numpy as np\n",
    "\n",
    "# Durchmesser von 10 zufälligen Meteoriten (in Metern)\n",
    "<TODO>\n",
    "print('Meteoriten-Durchmesser (m):', diameter)"
   ]
  },
  {
   "cell_type": "markdown",
   "id": "07f4446f",
   "metadata": {},
   "source": [
    "## Aufgabe 2: Einschlagkraft berechnen\n",
    "Die Einschlagkraft eines Meteoriten hängt von seiner Größe ab. Berechne für jeden Meteoriten die Einschlagkraft, indem du den Durchmesser quadrierst (Vereinfachung). Gib zusätzlich das arithmetische Mittel der Einschlagkraft an."
   ]
  },
  {
   "cell_type": "code",
   "execution_count": null,
   "id": "30e56f1d",
   "metadata": {},
   "outputs": [],
   "source": [
    "# Einschlagkraft berechnen (Vereinfachung: Durchmesser^2)\n",
    "<TODO>\n",
    "print('Einschlagkraft der Meteoriten:', impact_force)\n",
    "\n",
    "# Durchschnittliche Einschlagkraft\n",
    "<TODO>\n",
    "print('Durchschnittliche Einschlagkraft:', mean_impact_force)"
   ]
  },
  {
   "cell_type": "markdown",
   "id": "1af99f92",
   "metadata": {},
   "source": [
    "## Aufgabe 3: Gefährliche Meteoriten identifizieren\n",
    "Finde alle Meteoriten, deren Einschlagkraft über dem Durchschnitt liegt, und gib ihre Durchmesser an."
   ]
  },
  {
   "cell_type": "code",
   "execution_count": null,
   "id": "150612da",
   "metadata": {},
   "outputs": [],
   "source": [
    "# Meteoriten mit Einschlagkraft über dem Durchschnitt\n",
    "<TODO>\n",
    "print('Gefährliche Meteoriten (Durchmesser):', dangerous_meteorites)"
   ]
  },
  {
   "cell_type": "markdown",
   "id": "c8c1d09c",
   "metadata": {},
   "source": [
    "## Aufgabe 4: Meteoriten-Herde visualisieren\n",
    "Stelle dir vor, du beobachtest einen Meteoriten-Herd. Erstelle ein 3x3 Raster, das die Positionen von 9 Meteoriten zeigt, und trage die Durchmesser der Meteoriten in dieses Raster ein. Hinweis: aus dem 1x10 Array ein 3x3 Array machen"
   ]
  },
  {
   "cell_type": "code",
   "execution_count": null,
   "id": "99ccefbf",
   "metadata": {},
   "outputs": [],
   "source": [
    "# 3x3 Raster von Meteoriten-Durchmessern\n",
    "<TODO>\n",
    "print('Meteoriten-Herde (Positionen der Meteoriten):\\n', meteorite_grid)"
   ]
  },
  {
   "cell_type": "markdown",
   "id": "b3957ec7",
   "metadata": {},
   "source": [
    "## Aufgabe 5: Energieverteilung des Meteoriten-Herdes\n",
    "Berechne die Gesamtenergie jedes Meteoriten-Herdes in jeder Zeile und Spalte. Dies hilft zu bestimmen, welche Region am stärksten gefährdet ist."
   ]
  },
  {
   "cell_type": "code",
   "execution_count": null,
   "id": "cf174957",
   "metadata": {},
   "outputs": [],
   "source": [
    "# Energie jedes Herdes (hier vereinfachen wir: Energie = Position^2)\n",
    "<TODO>\n",
    "\n",
    "# Energieverteilung in Zeilen und Spalten\n",
    "<TODO>\n",
    "\n",
    "print('Energieverteilung in Zeilen:', row_energy)\n",
    "print('Energieverteilung in Spalten:', col_energy)"
   ]
  },
  {
   "cell_type": "markdown",
   "id": "799fa172",
   "metadata": {},
   "source": [
    "## Aufgabe 6: Analyse des gefährlichsten Einschlags\n",
    "Bestimme den Median, die Standardabweichung und das Maximum der Meteoriten-Einschlagkräfte."
   ]
  },
  {
   "cell_type": "code",
   "execution_count": null,
   "id": "91a760ae",
   "metadata": {},
   "outputs": [],
   "source": [
    "# Statistische Analyse der Einschlagkräfte\n",
    "<TODO>\n",
    "\n",
    "print('Median der Einschlagkräfte:', median_impact)\n",
    "print('Standardabweichung der Einschlagkräfte:', std_dev_impact)\n",
    "print('Maximale Einschlagkraft:', max_impact)"
   ]
  },
  {
   "cell_type": "markdown",
   "id": "61db024f",
   "metadata": {},
   "source": [
    "## Zusatzaufgabe (optional): Gefahrenabschätzung\n",
    "Sortiere die Meteoriten-Durchmesser und identifiziere den größten Meteoriten, um die größte Gefahr zu ermitteln."
   ]
  },
  {
   "cell_type": "code",
   "execution_count": null,
   "id": "c6561713",
   "metadata": {},
   "outputs": [],
   "source": [
    "# Sortierung der Meteoriten-Durchmesser\n",
    "# verwende die Sortierfunktion von Numy\n",
    "<TODO>\n",
    "# implementiere einen eigenen Sortieralgorithmus (z.B. Bubblesort)\n",
    "<TODO>\n",
    "\n",
    "# Größter Meteorit\n",
    "<TODO>\n",
    "print('Größter Meteorit (Durchmesser):', largest_meteorite)"
   ]
  }
 ],
 "metadata": {
  "language_info": {
   "name": "python"
  }
 },
 "nbformat": 4,
 "nbformat_minor": 5
}
