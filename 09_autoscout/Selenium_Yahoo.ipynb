{
 "cells": [
  {
   "cell_type": "markdown",
   "id": "de9766e7",
   "metadata": {},
   "source": [
    "# Webscraping with Selenium\n",
    "Selenium Webpage: https://www.selenium.dev/\n",
    "\n",
    "documentation for python: https://www.selenium.dev/selenium/docs/api/py/index.html#"
   ]
  },
  {
   "cell_type": "code",
   "execution_count": null,
   "id": "821eda06",
   "metadata": {},
   "outputs": [],
   "source": [
    "# install selenium package if not done so far\n",
    "#!pip install selenium"
   ]
  },
  {
   "cell_type": "markdown",
   "id": "7837aab7",
   "metadata": {},
   "source": [
    "## Attention:\n",
    "\n",
    "Selenium needs a WebDriver (specific for the browser you have: Chrome, Firefox, Edge, Safar).\n",
    "\n",
    "In many cases it is installed automatically when Selenium is used with Python\n",
    "\n",
    "If not, follow this link for manual installation: https://www.selenium.dev/selenium/docs/api/py/index.html#drivers"
   ]
  },
  {
   "cell_type": "code",
   "execution_count": 1,
   "id": "5a2e6121-5daa-4df4-910a-2c7d369bddf5",
   "metadata": {
    "pycharm": {
     "name": "#%%\n"
    }
   },
   "outputs": [
    {
     "name": "stdout",
     "output_type": "stream",
     "text": [
      "Video of tourist’s unbelievable actions on edge of rock formation at national park sparks fury online: ‘Entitlement in the wild’\n",
      "\n",
      "Former hotel VP accused of drunkenly slapping teenage Disney World restaurant hostess over dress code snub\n",
      "\n",
      "Woman says she lost her voice screaming after she was stuck overnight on ski resort gondola\n",
      "\n",
      "Taylor Swift Drops Blunt 3-Word Message For CBS Cameras At Chiefs-Ravens Game\n",
      "\n",
      "Where was Terry Bradshaw yesterday? Here's what we know about his NFC Championship absence\n",
      "\n",
      "Lions-49ers game ends Greg Olsen's stint at No. 1 analyst at Fox\n",
      "\n",
      "Lindsey Vonn Shares Inspiring Message Post-Surgery as She Reflects on Tough Times: 'Believe in Yourself'\n",
      "\n",
      "“I Read Reviews & Spent Two Days In Bed”: Dominic West Says He’s Relieved ‘The Crown’ Is Over\n",
      "\n",
      "\"Trump doesn't have an appeal\": Experts say Trump may fire lawyer after being \"burned very severely\"\n",
      "\n",
      "The Garcia Twins Release Statement On Allegations Against Vince McMahon, John Laurinaitis\n",
      "\n",
      "Murder, drugs, violent loyalty – inside Japan’s feared yakuza\n",
      "\n",
      "Stephen Colbert Spots The Brain Test Trump Just Flunked Right In Front Of Everyone\n",
      "\n",
      "'Make Him Crazy': George Conway Reveals How To Get Under Trump's Skin\n",
      "\n",
      "Woman reveals brilliant kitchen use for those random silica bead packets: ‘Don’t throw them away’\n",
      "\n",
      "Trans woman shares her dating hardships: 'Men nowadays are expecting princess treatment'\n",
      "\n",
      "Putin is trying to track down overseas properties that the Soviet Union owned and stake claims on them\n",
      "\n",
      "Seth Meyers Airs Fox News Moment That’s A Bad Sign For Donald Trump\n",
      "\n",
      "Amanda Davies, One Life to Live Alum and Daughter of Soap Legend Erika Slezak, Dead at 42\n",
      "\n",
      "This mom panicked when her toddler got lost in a crowd. Then she remembered a viral TikTok\n",
      "\n",
      "Madelyn Cline Is by Boyfriend Pete Davidson’s Side as They Leave His Comedy Show in Philadelphia\n",
      "\n",
      "Lawrence O’Donnell Makes Bold Prediction About Looming Trump 'Bankruptcy'\n",
      "\n",
      "Fact Check: Donald Trump Says His Uncle Was an MIT Professor. Here's the Truth\n",
      "\n",
      "Lions Coach Tells Team Awful Truth About Future Chance Of Getting To Super Bowl\n",
      "\n",
      "San Francisco 49ers Fullback Kyle Juszczyk and Wife Kristin Juszczyk’s Relationship Timeline\n",
      "\n",
      "The Red Sea fighting shows the humiliating difference between the US and Royal Navies\n",
      "\n",
      "Sophie Turner and Peregrine Pearson Just Went IG Official in the Most DGAF Way Possible\n",
      "\n",
      "Israeli undercover forces dressed as women and medics storm West Bank hospital, killing 3 militants\n",
      "\n",
      "Bowen Yang Distances Himself From Dave Chappelle During ‘SNL’ Good Night Segment\n",
      "\n",
      "Kensington Palace Gives Update On Kate Middleton’s Condition Following Abdominal Surgery\n",
      "\n",
      "Large rattlesnake gets itself in odd predicament while prowling Arizona garage\n",
      "\n",
      "Researcher accidentally discovers material that’s stronger and cheaper than concrete — and its potential is dizzying\n",
      "\n"
     ]
    }
   ],
   "source": [
    "import time\n",
    "from selenium import webdriver\n",
    "from selenium.webdriver.support.ui import WebDriverWait\n",
    "from selenium.webdriver.common.by import By\n",
    "from selenium.webdriver.support import expected_conditions as EC\n",
    " \n",
    "# Launch Chrome browser\n",
    "options = webdriver.ChromeOptions()\n",
    "# alternatively you can use Firefox, Edge or Safari Browser\n",
    "# see following link for more information: \n",
    "\n",
    "# select ist headless mode\n",
    "#options.add_argument(\"headless\")\n",
    "browser = webdriver.Chrome(options=options)\n",
    " \n",
    "# Load web page\n",
    "browser.get(\"https://www.yahoo.com\")\n",
    "# Network transport takes time. Wait until the page is fully loaded\n",
    "def is_ready(browser):\n",
    "    return browser.execute_script(r\"\"\"\n",
    "        return document.readyState === 'complete'\n",
    "    \"\"\")\n",
    "WebDriverWait(browser, 30).until(is_ready)\n",
    "\n",
    "\n",
    "WebDriverWait(browser, 10).until(EC.element_to_be_clickable((By.XPATH,'//button[@name=\"agree\"]'))).click()\n",
    " \n",
    "# Scroll to bottom of the page to trigger JavaScript action\n",
    "browser.execute_script(\"window.scrollTo(0, document.body.scrollHeight);\")\n",
    "time.sleep(1)\n",
    "WebDriverWait(browser, 30).until(is_ready)\n",
    " \n",
    "# Search for news headlines and print\n",
    "elements = browser.find_elements(By.XPATH, \"//h3/a[u[@class='StretchedBox']]\")\n",
    "\n",
    "for elem in elements:\n",
    "    print(elem.text)\n",
    "    print()\n",
    " \n",
    "# Close the browser once finish\n",
    "browser.close()"
   ]
  },
  {
   "cell_type": "code",
   "execution_count": null,
   "id": "30200948-176c-4cc5-a0c3-84a110615b37",
   "metadata": {
    "pycharm": {
     "name": "#%%\n"
    }
   },
   "outputs": [],
   "source": []
  }
 ],
 "metadata": {
  "kernelspec": {
   "display_name": "Python 3 (ipykernel)",
   "language": "python",
   "name": "python3"
  },
  "language_info": {
   "codemirror_mode": {
    "name": "ipython",
    "version": 3
   },
   "file_extension": ".py",
   "mimetype": "text/x-python",
   "name": "python",
   "nbconvert_exporter": "python",
   "pygments_lexer": "ipython3",
   "version": "3.11.7"
  }
 },
 "nbformat": 4,
 "nbformat_minor": 5
}
